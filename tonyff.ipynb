{
  "nbformat": 4,
  "nbformat_minor": 0,
  "metadata": {
    "colab": {
      "provenance": [],
      "gpuType": "T4",
      "authorship_tag": "ABX9TyNlbtFnGnrAS+w3SOuq7Qsb",
      "include_colab_link": true
    },
    "kernelspec": {
      "name": "python3",
      "display_name": "Python 3"
    },
    "language_info": {
      "name": "python"
    },
    "accelerator": "GPU"
  },
  "cells": [
    {
      "cell_type": "markdown",
      "metadata": {
        "id": "view-in-github",
        "colab_type": "text"
      },
      "source": [
        "<a href=\"https://colab.research.google.com/github/dream80/roop_colab/blob/main/tonyff.ipynb\" target=\"_parent\"><img src=\"https://colab.research.google.com/assets/colab-badge.svg\" alt=\"Open In Colab\"/></a>"
      ]
    },
    {
      "cell_type": "markdown",
      "source": [
        "一个AI换脸的项目,可以使用图片去换图片，也可以用图片换视频。  \n",
        "\n",
        "使用方法，只要依次点击或者全部运行就可以了。运行成功点击网址打开即可使用。软件的具体使用可以参考[使用教程](https://mp.weixin.qq.com/s/KJi_R31p5wIl0OwuzENobg)。  \n",
        "\n",
        "---------------------------------\n",
        "脚本来源：[tonyff](https://github.com/dream80/roop_colab)  \n",
        "原项目：[facefusion](https://github.com/facefusion/facefusion)  \n",
        "关联脚本：[roop](https://colab.research.google.com/drive/1hjDcMe3MWFRmopwpWdEtHecg4OdC969P#scrollTo=vW_Ovjjq8Qv8)\n",
        "\n",
        "\n",
        "公众号：托尼不是塔克  \n",
        "博客：[tonyisstark.com](https://www.tonyisstark.com)  "
      ],
      "metadata": {
        "id": "6ZV95cvmGy3X"
      }
    },
    {
      "cell_type": "code",
      "execution_count": null,
      "metadata": {
        "id": "LfXDWmk99Ntp",
        "cellView": "form"
      },
      "outputs": [],
      "source": [
        "#@title 1.克隆源代码\n",
        "!git clone https://github.com/dream80/tonyff.git"
      ]
    },
    {
      "cell_type": "code",
      "source": [
        "#@title 2.安装依赖\n",
        "%cd /content/tonyff\n",
        "!pip install -r requirements.txt"
      ],
      "metadata": {
        "id": "xRbseCrr-h_Q",
        "cellView": "form"
      },
      "execution_count": null,
      "outputs": []
    },
    {
      "cell_type": "code",
      "source": [
        "#@title 3.运行软件\n",
        "!python run.py"
      ],
      "metadata": {
        "id": "nll7dBV6-7yU",
        "cellView": "form"
      },
      "execution_count": null,
      "outputs": []
    }
  ]
}